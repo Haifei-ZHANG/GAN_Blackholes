{
 "cells": [
  {
   "cell_type": "code",
   "execution_count": 1,
   "metadata": {},
   "outputs": [],
   "source": [
    "from PIL import Image\n",
    "import matplotlib.pyplot as plt\n",
    "import numpy as np"
   ]
  },
  {
   "cell_type": "code",
   "execution_count": 28,
   "metadata": {
    "scrolled": true
   },
   "outputs": [],
   "source": [
    "img_size_original = np.zeros((6,2))\n",
    "img_size_new = np.zeros((6,2))\n",
    "path_save = \"./dataset/Trous Noirs/\"\n",
    "c_box = [0,0,0,0]\n",
    "for i in range(0,6):\n",
    "    img = Image.open(\"./dataset/Trous Noirs Original/{}.jpg\".format(i+1))\n",
    "    image_new_path = path_save +\"{}.jpg\".format(i+1) \n",
    "    img_size_original[i] = img.size\n",
    "    width = img_size_original[i][0]\n",
    "    height = img_size_original[i][1]\n",
    "    if width > height:\n",
    "        delta = int((width-height)/2)\n",
    "        c_box = [delta, 0, height+delta, height]\n",
    "    else:\n",
    "        delta = int((height-width)/2)\n",
    "        c_box = [0, delta, width, width+delta]\n",
    "\n",
    "    new_image = img.crop(c_box)\n",
    "    new_image = new_image.resize((128,128))\n",
    "    img_size_new[i] = new_image.size\n",
    "    new_image.save(image_new_path)"
   ]
  },
  {
   "cell_type": "code",
   "execution_count": 29,
   "metadata": {},
   "outputs": [
    {
     "data": {
      "text/plain": [
       "array([[ 787.,  590.],\n",
       "       [1440.,  810.],\n",
       "       [1200.,  849.],\n",
       "       [1200.,  800.],\n",
       "       [1440.,  810.],\n",
       "       [ 640.,  350.]])"
      ]
     },
     "execution_count": 29,
     "metadata": {},
     "output_type": "execute_result"
    }
   ],
   "source": [
    "img_size_Original"
   ]
  },
  {
   "cell_type": "code",
   "execution_count": 30,
   "metadata": {},
   "outputs": [
    {
     "data": {
      "text/plain": [
       "array([[128., 128.],\n",
       "       [128., 128.],\n",
       "       [128., 128.],\n",
       "       [128., 128.],\n",
       "       [128., 128.],\n",
       "       [128., 128.]])"
      ]
     },
     "execution_count": 30,
     "metadata": {},
     "output_type": "execute_result"
    }
   ],
   "source": [
    "img_size_new"
   ]
  },
  {
   "cell_type": "code",
   "execution_count": 38,
   "metadata": {},
   "outputs": [],
   "source": [
    "for i in range(0,6):\n",
    "    img = Image.open(\"./dataset/Trous Noirs/{}.jpg\".format(i+1))\n",
    "    \n",
    "    //flip left-right\n",
    "    new_image = img.transpose(Image.FLIP_LEFT_RIGHT)\n",
    "    image_new_path = path_save +\"{}.jpg\".format(i+7)\n",
    "    new_image.save(image_new_path)\n",
    "    \n",
    "    //flip top-bottom\n",
    "    new_image = img.transpose(Image.FLIP_TOP_BOTTOM)\n",
    "    image_new_path = path_save +\"{}.jpg\".format(i+13)\n",
    "    new_image.save(image_new_path)\n",
    "    \n",
    "    //rotate 90 degree\n",
    "    new_image = img.transpose(Image.ROTATE_90)\n",
    "    image_new_path = path_save +\"{}.jpg\".format(i+19)\n",
    "    new_image.save(image_new_path)\n",
    "    \n",
    "    //rotate 180 degree\n",
    "    new_image = img.transpose(Image.ROTATE_180)\n",
    "    image_new_path = path_save +\"{}.jpg\".format(i+25)\n",
    "    new_image.save(image_new_path)\n",
    "    \n",
    "    //rotate 270 degree\n",
    "    new_image = img.transpose(Image.ROTATE_270)\n",
    "    image_new_path = path_save +\"{}.jpg\".format(i+31)\n",
    "    new_image.save(image_new_path)"
   ]
  }
 ],
 "metadata": {
  "kernelspec": {
   "display_name": "Python 3",
   "language": "python",
   "name": "python3"
  },
  "language_info": {
   "codemirror_mode": {
    "name": "ipython",
    "version": 3
   },
   "file_extension": ".py",
   "mimetype": "text/x-python",
   "name": "python",
   "nbconvert_exporter": "python",
   "pygments_lexer": "ipython3",
   "version": "3.7.1"
  }
 },
 "nbformat": 4,
 "nbformat_minor": 2
}
